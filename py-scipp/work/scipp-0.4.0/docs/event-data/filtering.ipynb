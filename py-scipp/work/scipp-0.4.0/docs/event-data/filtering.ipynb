{
 "cells": [
  {
   "cell_type": "markdown",
   "metadata": {},
   "source": [
    "# Filtering\n",
    "\n",
    "Event filtering refers to the process of removing or extracting a subset of events based on some criterion such as the temperature of the measured sample at the time an event was detected.\n",
    "Generally there are three steps to take when filtering events:\n",
    "\n",
    "1. Preprocess the metadata used for filtering.\n",
    "   For example, a noisy time series of temperature values needs to converted into a series of time intervals with a fixed temperature value within the interval.\n",
    "   This process might involve defining thresholds and tolerances or interpolation methods between measured temperature values.\n",
    "2. Map event timestamps to temperature values.\n",
    "3. Filter data based on temperature values.\n",
    "\n",
    "## Preparation\n",
    "\n",
    "We create some fake data for illustration purposes."
   ]
  },
  {
   "cell_type": "markdown",
   "metadata": {},
   "source": [
    "<div class=\"alert alert-info\">\n",
    "\n",
    "**Note**\n",
    "\n",
    "In practice data to be filtered would be based on a loaded file. Details of this subsection can safely by skipped, as long as all cells are executed.\n",
    "\n",
    "</div>"
   ]
  },
  {
   "cell_type": "code",
   "execution_count": null,
   "metadata": {},
   "outputs": [],
   "source": [
    "import numpy as np\n",
    "import scipp as sc\n",
    "from scipp.plot import plot"
   ]
  },
  {
   "cell_type": "code",
   "execution_count": null,
   "metadata": {},
   "outputs": [],
   "source": [
    "np.random.seed(1) # Fixed for reproducibility\n",
    "end_time = 100000\n",
    "tof_max = 10000\n",
    "width = tof_max/20\n",
    "sizes = 4*np.array([7000, 3333, 3000, 5000])\n",
    "data = sc.Variable(dims=['x'],\n",
    "                   shape=[4],\n",
    "                   variances=True,\n",
    "                   dtype=sc.dtype.event_list_float64)\n",
    "x = sc.Variable(dims=['x'], unit=sc.units.m, values=np.linspace(0, 1, num=4))\n",
    "time = sc.Variable(dims=['x'],\n",
    "                   shape=[4],\n",
    "                   unit=sc.units.s,\n",
    "                   dtype=sc.dtype.event_list_int64)\n",
    "# time-of-flight in a neutron-scattering experiment\n",
    "tof = sc.Variable(dims=['x'],\n",
    "                   shape=[4],\n",
    "                   unit=sc.units.us,\n",
    "                   dtype=sc.dtype.event_list_float64)\n",
    "for i, size in enumerate(sizes):\n",
    "    vals = np.random.rand(size)\n",
    "    data['x', i].values = np.ones(size)\n",
    "    data['x', i].variances = np.ones(size)\n",
    "    time['x', i].values = np.linspace(0, end_time, num=size)\n",
    "    tof['x', i].values = np.concatenate(\n",
    "        (np.concatenate(\n",
    "            (7*width + width*np.random.randn(size//4),\n",
    "            13*width + width*np.random.randn(size//4))),\n",
    "        10*width + width*np.random.randn(size//2)))\n",
    "\n",
    "ntemp = 100\n",
    "sample_temperature = sc.DataArray(\n",
    "    data=sc.Variable(dims=['time'], unit=sc.units.K, values=5*np.random.rand(100)+np.linspace(100, 120, num=ntemp)),\n",
    "    coords={'time':sc.Variable(dims=['time'], unit=sc.units.s, values=np.linspace(0, end_time, num=ntemp))})\n",
    "    \n",
    "events = sc.DataArray(\n",
    "    data,\n",
    "    coords={'x':x, 'time':time, 'tof':tof},\n",
    "    attrs={'sample_temperature': sc.Variable(value=sample_temperature)})"
   ]
  },
  {
   "cell_type": "markdown",
   "metadata": {},
   "source": [
    "## Step 1: Preprocess metadata\n",
    "\n",
    "Our data contains an attribute with metadata related to the temperature of the measured sample:"
   ]
  },
  {
   "cell_type": "code",
   "execution_count": null,
   "metadata": {},
   "outputs": [],
   "source": [
    "timeseries = events.attrs['sample_temperature'].value\n",
    "plot(timeseries)"
   ]
  },
  {
   "cell_type": "markdown",
   "metadata": {},
   "source": [
    "This is a timeseries with noisy measurements, as could be obtained, e.g., from a temperature sensor.\n",
    "For event filtering we require intervals with a fixed temperature.\n",
    "This can be obtained in many ways.\n",
    "In this example we do so by taking the mean over subintervals:"
   ]
  },
  {
   "cell_type": "code",
   "execution_count": null,
   "metadata": {},
   "outputs": [],
   "source": [
    "average=4\n",
    "edges = sc.concatenate(\n",
    "    sc.reshape(timeseries.coords['time'], dims=['time', 'dummy'], shape=(ntemp//average,average))['dummy',0],\n",
    "    timeseries.coords['time']['time', -1]+1.0*sc.units.s, 'time')\n",
    "values = sc.mean(sc.reshape(timeseries.data, dims=['time', 'dummy'], shape=(ntemp//average,average)), 'dummy')\n",
    "temperature = sc.DataArray(values, coords={'time':edges})\n",
    "plot(temperature)"
   ]
  },
  {
   "cell_type": "markdown",
   "metadata": {},
   "source": [
    "<div class=\"alert alert-info\">\n",
    "\n",
    "**Note**\n",
    "\n",
    "We are using integer data with a unit of seconds for the time series since scipp has no support for datetime64 yet.\n",
    "\n",
    "</div>"
   ]
  },
  {
   "cell_type": "markdown",
   "metadata": {},
   "source": [
    "## Step 2: Map time stamps\n",
    "\n",
    "The `temperature` data array computed above can be seen as a discretized functional dependence of temperature on time.\n",
    "This \"function\" can now be used to map the `time` of each event to the `temperature` of each event:"
   ]
  },
  {
   "cell_type": "code",
   "execution_count": null,
   "metadata": {},
   "outputs": [],
   "source": [
    "events.coords['temperature'] = sc.map(temperature, events.coords['time'])"
   ]
  },
  {
   "cell_type": "markdown",
   "metadata": {},
   "source": [
    "The event lists with temperature values created by `scipp.map` have been added as a new coordinate:"
   ]
  },
  {
   "cell_type": "code",
   "execution_count": null,
   "metadata": {},
   "outputs": [],
   "source": [
    "events"
   ]
  },
  {
   "cell_type": "markdown",
   "metadata": {},
   "source": [
    "## Step 3: Filter\n",
    "\n",
    "The temperature coordinate create in the previous step can now be used for the actual filtering step.\n",
    "There are two options, `scipp.filter` and `scipp.realign` in combination with slicing.\n",
    "\n",
    "### Option 1: `scipp.filter`\n",
    "\n",
    "Above we have added a `temperature` coordinate to our data in `events`.\n",
    "We can then use `scipp.filter` based on a temperature interval:"
   ]
  },
  {
   "cell_type": "code",
   "execution_count": null,
   "metadata": {},
   "outputs": [],
   "source": [
    "filtered = sc.filter(\n",
    "    data=events,\n",
    "    filter='temperature',\n",
    "    interval=sc.Variable(dims=['temperature'], unit=sc.units.K, values=[115.0, 119.0]))"
   ]
  },
  {
   "cell_type": "markdown",
   "metadata": {},
   "source": [
    "The returned data array contains only events with a temperature value falling into this interval:"
   ]
  },
  {
   "cell_type": "code",
   "execution_count": null,
   "metadata": {
    "scrolled": false
   },
   "outputs": [],
   "source": [
    "plot(filtered, bins={'tof':100})"
   ]
  },
  {
   "cell_type": "markdown",
   "metadata": {},
   "source": [
    "### Option 2: `scipp.realign`\n",
    "\n",
    "With a `temperature` coordinate stored in `events` it is possible to use `scipp.realign` with temperature bins:"
   ]
  },
  {
   "cell_type": "code",
   "execution_count": null,
   "metadata": {},
   "outputs": [],
   "source": [
    "tof_bins = sc.Variable(dims=['tof'], unit=sc.units.us, values=np.linspace(0,tof_max,num=100))\n",
    "temp_bins = sc.Variable(dims=['temperature'], unit=sc.units.K, values=np.linspace(100.0, 130.0, num=6))\n",
    "realigned = sc.realign(events, {'temperature':temp_bins, 'tof':tof_bins})"
   ]
  },
  {
   "cell_type": "markdown",
   "metadata": {},
   "source": [
    "Filtering is then performed by slicing and copying:"
   ]
  },
  {
   "cell_type": "code",
   "execution_count": null,
   "metadata": {},
   "outputs": [],
   "source": [
    "filtered = realigned['temperature', 0:3].copy()"
   ]
  },
  {
   "cell_type": "markdown",
   "metadata": {},
   "source": [
    "Slicing combined with histogramming is also performing a filter operation since all events outside the histogram bounds are dropped:"
   ]
  },
  {
   "cell_type": "code",
   "execution_count": null,
   "metadata": {},
   "outputs": [],
   "source": [
    "plot(sc.histogram(realigned['temperature', 1]))\n",
    "plot(sc.histogram(realigned['temperature', 3]))"
   ]
  },
  {
   "cell_type": "markdown",
   "metadata": {},
   "source": [
    "Results from filter operations can also be inserted into a dataset for convenient handling of further operations such as histogramming, summing, or plotting:"
   ]
  },
  {
   "cell_type": "code",
   "execution_count": null,
   "metadata": {},
   "outputs": [],
   "source": [
    "d = sc.Dataset()\n",
    "d['below_T_c'] = realigned['temperature', 1]\n",
    "d['above_T_c'] = realigned['temperature', 3]\n",
    "plot(sc.sum(sc.histogram(d), 'x'))"
   ]
  },
  {
   "cell_type": "markdown",
   "metadata": {},
   "source": [
    "We can also realign without the time-of-flight coordinate to obtain that temperature dependence of the total event count, e.g., for normalization purposes:"
   ]
  },
  {
   "cell_type": "code",
   "execution_count": null,
   "metadata": {
    "scrolled": false
   },
   "outputs": [],
   "source": [
    "realigned = sc.realign(events, {'temperature':temp_bins})\n",
    "plot(realigned)"
   ]
  }
 ],
 "metadata": {
  "kernelspec": {
   "display_name": "Python 3",
   "language": "python",
   "name": "python3"
  },
  "language_info": {
   "codemirror_mode": {
    "name": "ipython",
    "version": 3
   },
   "file_extension": ".py",
   "mimetype": "text/x-python",
   "name": "python",
   "nbconvert_exporter": "python",
   "pygments_lexer": "ipython3",
   "version": "3.7.6"
  }
 },
 "nbformat": 4,
 "nbformat_minor": 4
}
