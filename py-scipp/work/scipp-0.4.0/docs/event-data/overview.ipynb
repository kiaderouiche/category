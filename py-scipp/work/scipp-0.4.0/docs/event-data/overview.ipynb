{
 "cells": [
  {
   "cell_type": "markdown",
   "metadata": {},
   "source": [
    "# Introduction\n",
    "\n",
    "Scipp can handle *event data*, a certain type of sparse data, i.e., data that cannot directly be represented as a multi-dimensional array.\n",
    "For applications that rely solely on dense arrays of data this section can safely be ignored.\n",
    "\n",
    "Scipp supports event data in shape of a multi-dimensional array of lists.\n",
    "This could, e.g., be used to store data from an array of sensors/detectors that are read out independently, with potentially widely varying frequency.\n",
    "\n",
    "Event data can be created using a special `dtype`, `event_list_float64`, `event_list_float32`, `event_list_int64`, and `event_list_int32`.\n",
    "Since here we are not dealing with a dense array we cannot set values for all `x` from a numpy array.\n",
    "The recommended approach is to slice out all dimensions.\n",
    "Then the remaining values (for a particluar \"x\" in this case) are a dense array with a list-like interface.\n",
    "Initially all lists are empty:"
   ]
  },
  {
   "cell_type": "code",
   "execution_count": null,
   "metadata": {},
   "outputs": [],
   "source": [
    "import numpy as np\n",
    "import scipp as sc\n",
    "from scipp.plot import plot\n",
    "\n",
    "var = sc.Variable(dims=['x'],\n",
    "                  shape=[4],\n",
    "                  dtype=sc.dtype.event_list_float64)\n",
    "sc.show(var)\n",
    "var"
   ]
  },
  {
   "cell_type": "code",
   "execution_count": null,
   "metadata": {},
   "outputs": [],
   "source": [
    "var['x', 0].values = np.arange(3)\n",
    "var['x', 1].values.append(42)\n",
    "var['x', 0].values.extend(np.ones(3))\n",
    "var['x', 3].values = np.ones(6)\n",
    "sc.show(var)\n",
    "var"
   ]
  },
  {
   "cell_type": "code",
   "execution_count": null,
   "metadata": {},
   "outputs": [],
   "source": [
    "var['x', 0].values"
   ]
  },
  {
   "cell_type": "code",
   "execution_count": null,
   "metadata": {},
   "outputs": [],
   "source": [
    "var['x', 1].values"
   ]
  },
  {
   "cell_type": "code",
   "execution_count": null,
   "metadata": {},
   "outputs": [],
   "source": [
    "var['x', 2].values"
   ]
  },
  {
   "cell_type": "markdown",
   "metadata": {},
   "source": [
    "Operations between variables or datasets broadcast dense data to lists:"
   ]
  },
  {
   "cell_type": "code",
   "execution_count": null,
   "metadata": {},
   "outputs": [],
   "source": [
    "scale = sc.Variable(dims=['x'], values=np.arange(2.0, 6))\n",
    "var *= scale\n",
    "var['x', 0].values"
   ]
  },
  {
   "cell_type": "code",
   "execution_count": null,
   "metadata": {},
   "outputs": [],
   "source": [
    "var['x', 1].values"
   ]
  },
  {
   "cell_type": "code",
   "execution_count": null,
   "metadata": {},
   "outputs": [],
   "source": [
    "var['x', 2].values"
   ]
  },
  {
   "cell_type": "markdown",
   "metadata": {},
   "source": [
    "Event data in a data array has values corresponding to \"weights\" of events.\n",
    "If each event corresponds to, e.g., a single detected neutron the weight is 1.\n",
    "Event data in a data array is be associated with a corresponding event coordinate:"
   ]
  },
  {
   "cell_type": "code",
   "execution_count": null,
   "metadata": {},
   "outputs": [],
   "source": [
    "weights = sc.Variable(\n",
    "    dims=['x'],\n",
    "    shape=[4],\n",
    "    unit=sc.units.counts,\n",
    "    dtype=sc.dtype.event_list_float64,\n",
    "    variances=True)\n",
    "weights['x', 0].values = np.ones(6)\n",
    "weights['x', 1].values = np.ones(1)\n",
    "weights['x', 2].values = np.ones(0)\n",
    "weights['x', 3].values = np.ones(6)\n",
    "weights['x', 0].variances = np.ones(6)\n",
    "weights['x', 1].variances = np.ones(1)\n",
    "weights['x', 2].variances = np.ones(0)\n",
    "weights['x', 3].variances = np.ones(6)\n",
    "\n",
    "a = sc.DataArray(\n",
    "    data=weights,\n",
    "    coords={'x': sc.Variable(['x'], values=np.arange(4.0)),\n",
    "            'time': var})\n",
    "a.coords['time'].unit = sc.units.us # micro second\n",
    "a"
   ]
  },
  {
   "cell_type": "markdown",
   "metadata": {},
   "source": [
    "The lengths of the sublists between coordinate and values (and variances) must match.\n",
    "Scipp does not enforce this when modifying sublists, but *does* verify correctness in operations on variables or data arrays.\n",
    "\n",
    "In the graphical representation of the data array we can see the event coordinate (green), and the event values and variances (yellow):"
   ]
  },
  {
   "cell_type": "code",
   "execution_count": null,
   "metadata": {},
   "outputs": [],
   "source": [
    "sc.show(a)"
   ]
  },
  {
   "cell_type": "markdown",
   "metadata": {},
   "source": [
    "# Arithmetic operations\n",
    "\n",
    "Direct arithmetic operations with event data can be useful in some cases, but more commonly operations that act on event data as if it had been histogrammed are required.\n",
    "For example, addition of histogrammed data would correspond to concatenating event lists.\n",
    "\n",
    "Scipp supports such operations based on realigned wrappers of event data.\n",
    "For an introduction of the concept of realigned data see [Unaligned and Realigned Data](../user-guide/unaligned-data.ipynb).\n",
    "The following operations are supported:\n",
    "\n",
    "- Addition of data arrays containing realigned event data.\n",
    "  Internally this concatenates the underlying event lists.\n",
    "- Subtraction of data arrays containing realigned event data.\n",
    "  Internally this concatenates the underlying event lists with a negative weight for the events in the subtrahend.\n",
    "- Multiplication of a data array containing realigned event data with a data array with dense, histogrammed data.\n",
    "  The weight of each event is scaled by the value of the corresponding bin in the histogram.\n",
    "- Division of a data array containing realigned event data by a data array with dense, histogrammed data.\n",
    "  The weight of each event is divided by the value of the corresponding bin in the histogram."
   ]
  },
  {
   "cell_type": "markdown",
   "metadata": {},
   "source": [
    "<div class=\"alert alert-warning\">\n",
    "    <b>WARNING:</b>\n",
    "\n",
    "It is important to note that these operations, in particular multiplication and division, are only interchangeable with histogramming if the variances of the \"histogram\" operand are negligible.\n",
    "If these variances are not negligible the operation on the event data introduces correlations in the error bars of the individual events.\n",
    "Scipp has no way of tracking such correlations and a subsequent `histogram` step propagates uncertainties under the assumption of uncorrelated error bars.\n",
    "</div>"
   ]
  },
  {
   "cell_type": "markdown",
   "metadata": {},
   "source": [
    "We use `realign` to wrap the event data with a time dimension:"
   ]
  },
  {
   "cell_type": "code",
   "execution_count": null,
   "metadata": {},
   "outputs": [],
   "source": [
    "time_bins = sc.Variable(dims=['time'], unit=sc.units.us, values=[0.0, 3.0, 6.0])\n",
    "realigned = sc.realign(a, {'time':time_bins})\n",
    "realigned"
   ]
  },
  {
   "cell_type": "markdown",
   "metadata": {},
   "source": [
    "## Addition"
   ]
  },
  {
   "cell_type": "code",
   "execution_count": null,
   "metadata": {},
   "outputs": [],
   "source": [
    "realigned += realigned\n",
    "sc.show(realigned.unaligned)\n",
    "plot(realigned)"
   ]
  },
  {
   "cell_type": "markdown",
   "metadata": {},
   "source": [
    "## Subtraction"
   ]
  },
  {
   "cell_type": "code",
   "execution_count": null,
   "metadata": {},
   "outputs": [],
   "source": [
    "zero = realigned.copy()\n",
    "zero -= zero\n",
    "sc.show(zero.unaligned)\n",
    "plot(zero)"
   ]
  },
  {
   "cell_type": "markdown",
   "metadata": {},
   "source": [
    "## Multiplication and division"
   ]
  },
  {
   "cell_type": "code",
   "execution_count": null,
   "metadata": {},
   "outputs": [],
   "source": [
    "realigned /= sc.histogram(realigned)\n",
    "sc.show(realigned.unaligned)\n",
    "plot(realigned)"
   ]
  }
 ],
 "metadata": {
  "kernelspec": {
   "display_name": "Python 3",
   "language": "python",
   "name": "python3"
  },
  "language_info": {
   "codemirror_mode": {
    "name": "ipython",
    "version": 3
   },
   "file_extension": ".py",
   "mimetype": "text/x-python",
   "name": "python",
   "nbconvert_exporter": "python",
   "pygments_lexer": "ipython3",
   "version": "3.7.6"
  }
 },
 "nbformat": 4,
 "nbformat_minor": 2
}
