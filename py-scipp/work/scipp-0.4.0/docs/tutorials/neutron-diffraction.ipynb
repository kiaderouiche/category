{
 "cells": [
  {
   "cell_type": "markdown",
   "metadata": {},
   "source": [
    "# Neutron Powder Diffraction\n",
    "\n",
    "In this tutorial demonstrates how neutron-scattering data can be loaded, visualized, and manipulated with generic functionality from `scipp` as well as neutron-specific functionality from `scipp.neutron`. It focuses on reducing data from the ORNL [POWGEN](https://neutrons.ornl.gov/powgen) neutron diffractometer."
   ]
  },
  {
   "cell_type": "code",
   "execution_count": null,
   "metadata": {},
   "outputs": [],
   "source": [
    "import numpy as np\n",
    "import scipp as sc\n",
    "from scipp.plot import plot"
   ]
  },
  {
   "cell_type": "markdown",
   "metadata": {},
   "source": [
    "### Loading Nexus files\n",
    "\n",
    "Loading Nexus files requires Mantid.\n",
    "See, e.g., [Installation](https://scipp.github.io/getting-started/installation.html) on how to install scipp and Mantid with `conda`.\n",
    "We are using two files in this tutorial,\n",
    "[PG3_4844_event.nxs](http://198.74.56.37/ftp/external-data/MD5/d5ae38871d0a09a28ae01f85d969de1e)\n",
    "and\n",
    "[PG3_4866_event.nxs](http://198.74.56.37/ftp/external-data/MD5/3d543bc6a646e622b3f4542bc3435e7e).\n",
    "Both are available as part of Mantid's test data.\n",
    "\n",
    "We start by loading two files: the sample and the vanadium runs."
   ]
  },
  {
   "cell_type": "code",
   "execution_count": null,
   "metadata": {},
   "outputs": [],
   "source": [
    "sample = sc.neutron.load(filename='PG3_4844_event.nxs',\n",
    "                         load_pulse_times=False,\n",
    "                         mantid_args={'LoadMonitors': True})\n",
    "vanadium = sc.neutron.load(filename='PG3_4866_event.nxs',\n",
    "                           load_pulse_times=False)"
   ]
  },
  {
   "cell_type": "markdown",
   "metadata": {},
   "source": [
    "The optional `mantid_args` dict is forwarded to the Mantid algorithm used for loading the files &ndash; in this case [LoadEventNexus](https://docs.mantidproject.org/nightly/algorithms/LoadEventNexus-v1.html) &ndash; and can be used to control, e.g., which part of a file to load.\n",
    "Here we request loading monitors, which Mantid does not load by default.\n",
    "The resulting dataset looks as follows:"
   ]
  },
  {
   "cell_type": "code",
   "execution_count": null,
   "metadata": {},
   "outputs": [],
   "source": [
    "sample"
   ]
  },
  {
   "cell_type": "code",
   "execution_count": null,
   "metadata": {},
   "outputs": [],
   "source": [
    "sc.show(sample)"
   ]
  },
  {
   "cell_type": "markdown",
   "metadata": {},
   "source": [
    "### Instrument view\n",
    "\n",
    "Scipp provides a rudimentary version of the Mantid [instrument view](https://www.mantidproject.org/MantidPlot:_Instrument_View), which can be used to take a quick look at the neutron counts on the detector panels in 3D space or using various cylindrical and spherical projections"
   ]
  },
  {
   "cell_type": "code",
   "execution_count": null,
   "metadata": {},
   "outputs": [],
   "source": [
    "sc.neutron.instrument_view(sample)"
   ]
  },
  {
   "cell_type": "markdown",
   "metadata": {},
   "source": [
    "### Plot against scattering angle $\\theta$ using `groupby`\n",
    "\n",
    "*This is not an essential step and can be skipped.*\n",
    "\n",
    "Plotting raw data directly yields a hard-to-interpret figure.\n",
    "We can obtain something more useful by \"binning\" the spectrum axis based on its $\\theta$ value, using the split-apply-combine approach provided by `groupby`:"
   ]
  },
  {
   "cell_type": "code",
   "execution_count": null,
   "metadata": {},
   "outputs": [],
   "source": [
    "sample.coords['theta'] = sc.neutron.scattering_angle(sample)\n",
    "vanadium.coords['theta'] = sc.neutron.scattering_angle(vanadium)\n",
    "theta_bins = sc.Variable(['theta'],\n",
    "                         unit=sc.units.rad,\n",
    "                         values=np.linspace(0.0, np.pi/2, num=2000))"
   ]
  },
  {
   "cell_type": "code",
   "execution_count": null,
   "metadata": {},
   "outputs": [],
   "source": [
    "theta_sample = sc.groupby(\n",
    "    sample,\n",
    "    'theta',\n",
    "    bins=theta_bins).flatten('spectrum')"
   ]
  },
  {
   "cell_type": "markdown",
   "metadata": {},
   "source": [
    "<div class=\"alert alert-info\">\n",
    "\n",
    "**Note**\n",
    "    \n",
    "Use `sum` instead of `flatten` when working with dense (histogrammed) data\n",
    "</div>"
   ]
  },
  {
   "cell_type": "code",
   "execution_count": null,
   "metadata": {},
   "outputs": [],
   "source": [
    "theta_sample"
   ]
  },
  {
   "cell_type": "code",
   "execution_count": null,
   "metadata": {},
   "outputs": [],
   "source": [
    "tof_bins = sc.Variable(dims=['tof'], unit=sc.units.us, values=np.linspace(0.0, 17000.0, num=1000))\n",
    "plot(theta_sample, bins={'tof':tof_bins})"
   ]
  },
  {
   "cell_type": "markdown",
   "metadata": {},
   "source": [
    "### Unit conversion\n",
    "\n",
    "*Note: We are back to working with `sample`, not `theta_sample`.*\n",
    "\n",
    "`scipp.neutron` provides means to convert between units (dimensions) related to time-of-flight.\n",
    "The loaded raw data has `Dim.Tof`, and we convert to interplanar lattice spacing (d-spacing):"
   ]
  },
  {
   "cell_type": "code",
   "execution_count": null,
   "metadata": {},
   "outputs": [],
   "source": [
    "dspacing_vanadium = sc.neutron.convert(vanadium, 'tof', 'd-spacing')\n",
    "dspacing_sample = sc.neutron.convert(sample, 'tof', 'd-spacing')\n",
    "dspacing_sample"
   ]
  },
  {
   "cell_type": "markdown",
   "metadata": {},
   "source": [
    "### Neutron monitors\n",
    "\n",
    "*Processing after this section does not continue based on the monitor-normalized data produced here.\n",
    "This section could thus be skipped.*\n",
    "\n",
    "If available, neutron monitors are stored as attributes of a data array:"
   ]
  },
  {
   "cell_type": "code",
   "execution_count": null,
   "metadata": {},
   "outputs": [],
   "source": [
    "mon = sample.attrs['monitor1'].value\n",
    "mon"
   ]
  },
  {
   "cell_type": "markdown",
   "metadata": {},
   "source": [
    "The monitor could, e.g., be used to normalize the data.\n",
    "To do so, both data and monitor need to be converted to a unit other than time-of-flight, e.g., wavelength or energy:"
   ]
  },
  {
   "cell_type": "code",
   "execution_count": null,
   "metadata": {},
   "outputs": [],
   "source": [
    "sample_lambda = sc.neutron.convert(sample, 'tof', 'wavelength')\n",
    "mon = sc.neutron.convert(mon, 'tof', 'wavelength')"
   ]
  },
  {
   "cell_type": "markdown",
   "metadata": {},
   "source": [
    "The sample data is in event-mode, i.e., is not histogrammed.\n",
    "Event data *can* be divided by a histogram (such as `mon` in this case), but it needs to be explicitly aligned to the correct coordinates first (see [Unaligned data](../user-guide/unaligned-data.rst)).\n",
    "This alignment does *not* actually perform the conversion to a histogram:"
   ]
  },
  {
   "cell_type": "code",
   "execution_count": null,
   "metadata": {},
   "outputs": [],
   "source": [
    "edges = sc.Variable(dims=['wavelength'], unit=sc.units.angstrom, values=np.linspace(0, 1, num=1000))\n",
    "sample_lambda.realign({'wavelength':edges})"
   ]
  },
  {
   "cell_type": "markdown",
   "metadata": {},
   "source": [
    "We also rebin the monitor since the original binning is very fine:"
   ]
  },
  {
   "cell_type": "code",
   "execution_count": null,
   "metadata": {},
   "outputs": [],
   "source": [
    "mon = sc.rebin(mon, 'wavelength', edges)\n",
    "mon"
   ]
  },
  {
   "cell_type": "markdown",
   "metadata": {},
   "source": [
    "The sample data is now *realigned event data* and the monitor is a histogram.\n",
    "Multiplication and division operations for such cases are supported by modifying the weights (values) for each event:"
   ]
  },
  {
   "cell_type": "code",
   "execution_count": null,
   "metadata": {},
   "outputs": [],
   "source": [
    "sample_over_mon = sample_lambda / mon\n",
    "sample_over_mon"
   ]
  },
  {
   "cell_type": "markdown",
   "metadata": {},
   "source": [
    "Note that no data values are displayed since the internal representation is still based on unaligned event data.\n",
    "The underlying data can be accessed via the `unaligned` property:"
   ]
  },
  {
   "cell_type": "code",
   "execution_count": null,
   "metadata": {},
   "outputs": [],
   "source": [
    "sample_over_mon.unaligned"
   ]
  },
  {
   "cell_type": "markdown",
   "metadata": {},
   "source": [
    "Finally, we can plot the event data with on-the-fly binning.\n",
    "In this case specifying bin edges for the event data is not necessary since the realigned wrapper contains the required bin-edge coordinate:"
   ]
  },
  {
   "cell_type": "code",
   "execution_count": null,
   "metadata": {},
   "outputs": [],
   "source": [
    "plot(sample_over_mon)"
   ]
  },
  {
   "cell_type": "markdown",
   "metadata": {},
   "source": [
    "### From events to histogram\n",
    "\n",
    "*Note: We are continuing here with data that has not been normalized to the monitors.*\n",
    "\n",
    "We histogram the event data:"
   ]
  },
  {
   "cell_type": "code",
   "execution_count": null,
   "metadata": {},
   "outputs": [],
   "source": [
    "dspacing_bins = sc.Variable(\n",
    "    ['d-spacing'],\n",
    "    values=np.arange(0.3, 2.0, 0.001),\n",
    "    unit=sc.units.angstrom)\n",
    "hist = sc.Dataset({'sample':sc.histogram(dspacing_sample, dspacing_bins),\n",
    "                   'vanadium':sc.histogram(dspacing_vanadium, dspacing_bins)})\n",
    "sc.show(hist['spectrum', 0:3]['d-spacing', 0:7])"
   ]
  },
  {
   "cell_type": "code",
   "execution_count": null,
   "metadata": {
    "scrolled": false
   },
   "outputs": [],
   "source": [
    "plot(hist)"
   ]
  },
  {
   "cell_type": "markdown",
   "metadata": {},
   "source": [
    "### Summing (focussing) and normalizing\n",
    "\n",
    "After conversion to `Dim.DSpacing`, generic `sum` and `/` operations can be used to \"focus\" and normalize the diffraction data to the vanadium run:"
   ]
  },
  {
   "cell_type": "code",
   "execution_count": null,
   "metadata": {},
   "outputs": [],
   "source": [
    "summed = sc.sum(hist, 'spectrum')\n",
    "plot(summed)"
   ]
  },
  {
   "cell_type": "code",
   "execution_count": null,
   "metadata": {
    "scrolled": false
   },
   "outputs": [],
   "source": [
    "normalized = summed['sample'] / summed['vanadium']\n",
    "plot(normalized)"
   ]
  },
  {
   "cell_type": "markdown",
   "metadata": {},
   "source": [
    "### Focussing with $\\theta$ dependence in event-mode\n",
    "\n",
    "Instead of focussing all data into a single spectrum, we can use `groupby` to focus each of multiple groups of spectra into a distinct output spectrum.\n",
    "Here we define groups based on a range of scattering angles &ndash; a simple $\\theta$-dependent binning.\n",
    "This also demonstrates how we can postpone histogramming until after the focussing step."
   ]
  },
  {
   "cell_type": "code",
   "execution_count": null,
   "metadata": {},
   "outputs": [],
   "source": [
    "theta = sc.Variable(['scattering_angle'],\n",
    "                    unit=sc.units.rad,\n",
    "                    values=np.linspace(0.0, np.pi/2, num=16))\n",
    "\n",
    "# Option 1: Realign, then group dataset, end result event data\n",
    "dspacing = sc.Dataset({\n",
    "    'sample':sc.realign(dspacing_sample, {'d-spacing':dspacing_bins}),\n",
    "    'vanadium':sc.realign(dspacing_vanadium, {'d-spacing':dspacing_bins})\n",
    "})\n",
    "focussed = sc.groupby(dspacing, 'theta', bins=theta).sum('spectrum')\n",
    "normalized = focussed['sample'] / sc.histogram(focussed['vanadium'])\n",
    "\n",
    "# # Option 2: Focus and histogram independently, then insert into dataset, end result histogram\n",
    "# focussed_sample = sc.groupby(\n",
    "#    dspacing_sample,\n",
    "#    'theta',\n",
    "#    bins=theta).flatten('spectrum')\n",
    "# focussed_vanadium = sc.groupby(\n",
    "#    dspacing_vanadium,\n",
    "#    'theta',\n",
    "#    bins=theta).flatten('spectrum')\n",
    "# focussed = sc.Dataset({'sample':sc.histogram(focussed_sample, dspacing_bins),\n",
    "#                   'vanadium':sc.histogram(focussed_vanadium, dspacing_bins)})\n",
    "# normalized = focussed['sample'] / focussed['vanadium']"
   ]
  },
  {
   "cell_type": "markdown",
   "metadata": {},
   "source": [
    "The normalization output is still in event-mode, so data is histogrammed for plotting:"
   ]
  },
  {
   "cell_type": "code",
   "execution_count": null,
   "metadata": {},
   "outputs": [],
   "source": [
    "plot(normalized)"
   ]
  },
  {
   "cell_type": "markdown",
   "metadata": {},
   "source": [
    "As a bonus, we can use slicing and a dict-comprehension to quickly create of plot comparing the spectra for different scattering angle bins:"
   ]
  },
  {
   "cell_type": "code",
   "execution_count": null,
   "metadata": {},
   "outputs": [],
   "source": [
    "# compute centers of theta bins\n",
    "angles = normalized.coords['scattering_angle'].values\n",
    "angles = 0.5*(angles[1:] + angles[:-1])\n",
    "plot(sc.Dataset(\n",
    "    {\n",
    "        '{}'.format(angles[group]):\n",
    "        normalized['d-spacing', 300:500]['scattering_angle', group]\n",
    "        for group in range(2,6)\n",
    "    }))"
   ]
  }
 ],
 "metadata": {
  "kernelspec": {
   "display_name": "Python 3",
   "language": "python",
   "name": "python3"
  },
  "language_info": {
   "codemirror_mode": {
    "name": "ipython",
    "version": 3
   },
   "file_extension": ".py",
   "mimetype": "text/x-python",
   "name": "python",
   "nbconvert_exporter": "python",
   "pygments_lexer": "ipython3",
   "version": "3.7.6"
  }
 },
 "nbformat": 4,
 "nbformat_minor": 2
}
