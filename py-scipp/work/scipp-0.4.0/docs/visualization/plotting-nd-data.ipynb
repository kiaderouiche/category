{
 "cells": [
  {
   "cell_type": "markdown",
   "metadata": {},
   "source": [
    "# Plotting N-D data\n",
    "\n",
    "Data with any number of dimensions can also be plotted in Scipp."
   ]
  },
  {
   "cell_type": "code",
   "execution_count": null,
   "metadata": {},
   "outputs": [],
   "source": [
    "import numpy as np\n",
    "import scipp as sc\n",
    "from scipp.plot import plot"
   ]
  },
  {
   "cell_type": "markdown",
   "metadata": {},
   "source": [
    "## Default representation\n",
    "\n",
    "Data with 3 or more dimensions are by default represented by a 2-D image, accompanied by sliders to navigate the extra dimensions (one slider per dimension above 2)."
   ]
  },
  {
   "cell_type": "code",
   "execution_count": null,
   "metadata": {},
   "outputs": [],
   "source": [
    "N = 50\n",
    "M = 40\n",
    "L = 30\n",
    "K = 20\n",
    "xx = np.arange(N, dtype=np.float64)\n",
    "yy = np.arange(M, dtype=np.float64)\n",
    "zz = np.arange(L, dtype=np.float64)\n",
    "qq = np.arange(K, dtype=np.float64)\n",
    "x, y, z, q = np.meshgrid(xx, yy, zz, qq, indexing='ij')\n",
    "b = N/20.0\n",
    "c = M/2.0\n",
    "d = L/2.0\n",
    "r = np.sqrt(((x-c)/b)**2 + ((y-c)/b)**2 + ((z-d)/b)**2  + ((q-d)/b)**2)\n",
    "a = np.sin(r)\n",
    "d = sc.Dataset()\n",
    "d.coords['x'] = sc.Variable(['x'], values=xx)\n",
    "d.coords['y'] = sc.Variable(['y'], values=yy)\n",
    "d.coords['z'] = sc.Variable(['z'], values=zz)\n",
    "d.coords['Q_x'] = sc.Variable(['Q_x'], values=qq)\n",
    "d['Some3Ddata'] = sc.Variable(['x', 'y', 'z', 'Q_x'], values=a,\n",
    "                              variances=np.abs(np.random.normal(a * 0.1, 0.05)))\n",
    "plot(d)"
   ]
  },
  {
   "cell_type": "markdown",
   "metadata": {},
   "source": [
    "By default, the two innermost dimensions are used for the image, and the rest will be allocated to a slider.\n",
    "This can be changed, either interactively using the buttons, or by specifying the order of the axes in the `plot` command:"
   ]
  },
  {
   "cell_type": "code",
   "execution_count": null,
   "metadata": {},
   "outputs": [],
   "source": [
    "plot(d, axes=['z', 'Q_x', 'y', 'x'])"
   ]
  },
  {
   "cell_type": "markdown",
   "metadata": {},
   "source": [
    "## 3D visualization"
   ]
  },
  {
   "cell_type": "markdown",
   "metadata": {},
   "source": [
    "<div class=\"alert alert-warning\">\n",
    "\n",
    "**Warning**\n",
    "\n",
    "3D visualization is temporarily disabled.\n",
    "\n",
    "</div>"
   ]
  },
  {
   "cell_type": "markdown",
   "metadata": {},
   "source": [
    "It is also possible to use a 3d projection. To use 3d visualization, you will have to install `ipyvolume` and `ipyevents` on your system, and enable the `ipyevents` jupyter extension:\n",
    "```\n",
    "conda install -c conda-forge ipyvolume ipyevents\n",
    "jupyter nbextension enable --py ipyevents\n",
    "```\n",
    "To view the 3d projection, use:"
   ]
  },
  {
   "cell_type": "code",
   "execution_count": null,
   "metadata": {},
   "outputs": [],
   "source": [
    "# # 3D visualization is disabled for now\n",
    "# plot(d, projection='3d')"
   ]
  },
  {
   "cell_type": "markdown",
   "metadata": {},
   "source": [
    "## LAMP's Superplot\n",
    "Finally, a `1d` projection is also available for multidimensional data, with the possibility to keep/remove lines that are plotted, a behaviour we copied from LAMP's [Superplot](https://github.com/mantidproject/documents/blob/master/Requirements/Visualisation_and_Analysis/superplot.md) which was very popular in the neutron physics community."
   ]
  },
  {
   "cell_type": "code",
   "execution_count": null,
   "metadata": {},
   "outputs": [],
   "source": [
    "plot(d, projection='1d')"
   ]
  },
  {
   "cell_type": "markdown",
   "metadata": {},
   "source": [
    "## Convenience Methods\n",
    "A small number of convenience methods are included in the `plot` module which provide shortcuts to the different projections. These are `image`, `threeslice`, and `superplot`, and are used in the following way:"
   ]
  },
  {
   "cell_type": "code",
   "execution_count": null,
   "metadata": {},
   "outputs": [],
   "source": [
    "from scipp import plot as pl\n",
    "pl.superplot(d)"
   ]
  }
 ],
 "metadata": {
  "kernelspec": {
   "display_name": "Python 3",
   "language": "python",
   "name": "python3"
  },
  "language_info": {
   "codemirror_mode": {
    "name": "ipython",
    "version": 3
   },
   "file_extension": ".py",
   "mimetype": "text/x-python",
   "name": "python",
   "nbconvert_exporter": "python",
   "pygments_lexer": "ipython3",
   "version": "3.7.6"
  }
 },
 "nbformat": 4,
 "nbformat_minor": 2
}
