{
 "cells": [
  {
   "cell_type": "markdown",
   "metadata": {},
   "source": [
    "# Plotting 2-D data\n",
    "\n",
    "Scipp uses the `imshow` function from the `matplotlib` library to visualize 2-D data."
   ]
  },
  {
   "cell_type": "code",
   "execution_count": null,
   "metadata": {},
   "outputs": [],
   "source": [
    "import numpy as np\n",
    "import scipp as sc\n",
    "from scipp.plot import plot"
   ]
  },
  {
   "cell_type": "markdown",
   "metadata": {},
   "source": [
    "## Basic image plot\n",
    "\n",
    "2-D variables are plotted as images, with a colormap:"
   ]
  },
  {
   "cell_type": "code",
   "execution_count": null,
   "metadata": {},
   "outputs": [],
   "source": [
    "N = 100\n",
    "M = 50\n",
    "xx = np.arange(N, dtype=np.float64)\n",
    "yy = np.arange(M, dtype=np.float64)\n",
    "x, y = np.meshgrid(xx, yy)\n",
    "b = N/20.0\n",
    "c = M/2.0\n",
    "r = np.sqrt(((x-c)/b)**2 + (y/b)**2)\n",
    "a = np.sin(r)\n",
    "d1 = sc.Dataset()\n",
    "d1.coords['x'] = sc.Variable(['x'], values=xx, unit=sc.units.m)\n",
    "d1.coords['y'] = sc.Variable(['y'], values=yy, unit=sc.units.m)\n",
    "d1['Signal'] = sc.Variable(['y', 'x'], values=a, unit=sc.units.counts)\n",
    "plot(d1)"
   ]
  },
  {
   "cell_type": "markdown",
   "metadata": {},
   "source": [
    "The dimension displayed along each axis of the image can be selected with the `axes` keyword argument which accepts a list of dimensions:"
   ]
  },
  {
   "cell_type": "code",
   "execution_count": null,
   "metadata": {},
   "outputs": [],
   "source": [
    "plot(d1, axes=['x', 'y'])"
   ]
  },
  {
   "cell_type": "markdown",
   "metadata": {},
   "source": [
    "## Changing the colorscale\n",
    "\n",
    "Changing the colorscale is handled in a similar way to the Matplotlib API. The colormap is defined by the `cmap` argument:"
   ]
  },
  {
   "cell_type": "code",
   "execution_count": null,
   "metadata": {},
   "outputs": [],
   "source": [
    "plot(d1, cmap='magma')"
   ]
  },
  {
   "cell_type": "markdown",
   "metadata": {},
   "source": [
    "A logarithmic colorscale is obtained by setting `log` to `True`:"
   ]
  },
  {
   "cell_type": "code",
   "execution_count": null,
   "metadata": {},
   "outputs": [],
   "source": [
    "plot(d1, log=True)"
   ]
  },
  {
   "cell_type": "markdown",
   "metadata": {},
   "source": [
    "Upper and lower limits on the colorscale can be placed using `vmin` and `vmax`:"
   ]
  },
  {
   "cell_type": "code",
   "execution_count": null,
   "metadata": {},
   "outputs": [],
   "source": [
    "plot(d1, vmin=0, vmax=0.5)"
   ]
  },
  {
   "cell_type": "markdown",
   "metadata": {},
   "source": [
    "## Using labels along some axis\n",
    "\n",
    "Just like in the 1d plots, we can use labels along a chosen dimension:"
   ]
  },
  {
   "cell_type": "code",
   "execution_count": null,
   "metadata": {},
   "outputs": [],
   "source": [
    "d1.coords['somelabels'] = sc.Variable(['x'],\n",
    "                                      values=np.linspace(101., 155., N),\n",
    "                                      unit=sc.units.s)\n",
    "plot(d1, axes=['y', 'somelabels'])"
   ]
  },
  {
   "cell_type": "markdown",
   "metadata": {},
   "source": [
    "## Collapsing dimensions\n",
    "\n",
    "Sometimes it is useful to collapse one or more of the data's dimensions, if for instance most detector pixels contain noise, but one specific channel contains a strong signal. This is done by specifying the dimension to be displayed along the x axis as a keyword argument. All other dimensions will be collapsed."
   ]
  },
  {
   "cell_type": "code",
   "execution_count": null,
   "metadata": {},
   "outputs": [],
   "source": [
    "N = 40\n",
    "M = 5\n",
    "x = np.arange(N).astype(np.float64)\n",
    "b = 0.5 * N\n",
    "a = 4.0*np.random.rand(M, N)\n",
    "a[2, :] = np.abs(10.0 * np.cos((x-b)*2.0/b))\n",
    "d2 = sc.Dataset()\n",
    "d2.coords['tof'] = sc.Variable(['tof'], values=x, unit=sc.units.us)\n",
    "d2.coords['x'] = sc.Variable(['x'], values=np.arange(M).astype(np.float64),\n",
    "                               unit=sc.units.m)\n",
    "d2['sample'] = sc.Variable(['x', 'tof'], values=a,\n",
    "                           variances=0.1*np.random.rand(M, N))\n",
    "plot(d2)\n",
    "plot(d2, collapse='tof')"
   ]
  },
  {
   "cell_type": "markdown",
   "metadata": {},
   "source": [
    "## Image aspect ratio\n",
    "By default, the aspect ratio of 2D images is not preserved; images are stretched to the size of the figure. You can choose to preserve the aspect ratio via the `aspect` keyword argument:"
   ]
  },
  {
   "cell_type": "code",
   "execution_count": null,
   "metadata": {},
   "outputs": [],
   "source": [
    "plot(d2, aspect='equal')"
   ]
  },
  {
   "cell_type": "markdown",
   "metadata": {},
   "source": [
    "You can also make this a permanent setting by editing the config file (possible options are `'equal'` and `'auto'`):"
   ]
  },
  {
   "cell_type": "code",
   "execution_count": null,
   "metadata": {},
   "outputs": [],
   "source": [
    "sc.config.update({'plot.aspect': 'equal'})\n",
    "sc.config.update({'plot.aspect': 'auto'})"
   ]
  },
  {
   "cell_type": "markdown",
   "metadata": {},
   "source": [
    "## Plotting masks\n",
    "\n",
    "If a dataset contains masks, they will appear as greyed out on the image:"
   ]
  },
  {
   "cell_type": "code",
   "execution_count": null,
   "metadata": {},
   "outputs": [],
   "source": [
    "N = 100\n",
    "M = 50\n",
    "xx = np.arange(N, dtype=np.float64)\n",
    "yy = np.arange(M, dtype=np.float64)\n",
    "x, y = np.meshgrid(xx, yy)\n",
    "b = N/20.0\n",
    "c = M/2.0\n",
    "r = np.sqrt(((x-c)/b)**2 + (y/b)**2)\n",
    "a = np.sin(r)\n",
    "d3 = sc.Dataset()\n",
    "d3.coords['x'] = sc.Variable(['x'], values=xx, unit=sc.units.m)\n",
    "d3.coords['y'] = sc.Variable(['y'], values=yy, unit=sc.units.m)\n",
    "d3['Signal'] = sc.Variable(['y', 'x'], values=a, unit=sc.units.counts)\n",
    "d3.masks['mask1'] = sc.Variable(['y', 'x'], values=np.where(a < 0, True, False))\n",
    "plot(d3)"
   ]
  },
  {
   "cell_type": "markdown",
   "metadata": {},
   "source": [
    "A toggle button below the plot can be used to hide/show the masks.\n",
    "\n",
    "The mask can be represented as a solid color with"
   ]
  },
  {
   "cell_type": "code",
   "execution_count": null,
   "metadata": {},
   "outputs": [],
   "source": [
    "plot(d3, masks={'color': 'magenta'})"
   ]
  },
  {
   "cell_type": "markdown",
   "metadata": {},
   "source": [
    "We also note that any 1D mask will automatically broadcast onto a 2D image:"
   ]
  },
  {
   "cell_type": "code",
   "execution_count": null,
   "metadata": {},
   "outputs": [],
   "source": [
    "d3.masks['mask1'] = sc.Variable(['x'], values=np.where(np.abs(xx-50) < 10, True, False))\n",
    "plot(d3)"
   ]
  },
  {
   "cell_type": "markdown",
   "metadata": {},
   "source": [
    "## Plotting event data\n",
    "If a `Dataset` contains event data, it is possible to plot the data directly using some on-the-fly histogramming, the parameters of which are specified in the `bins` keyword argument. This can either be a single integer (the number of bins; in this case the extents of the events dimension are automatically computed), a numpy array (representing the bin edges), or a `scipp` Variable (representing the bin edges, see https://scipp.github.io/generated/scipp.histogram.html):"
   ]
  },
  {
   "cell_type": "code",
   "execution_count": null,
   "metadata": {},
   "outputs": [],
   "source": [
    "N = 50\n",
    "M = 10\n",
    "var = sc.Variable(dims=['x'],\n",
    "                  shape=[M],\n",
    "                  dtype=sc.dtype.event_list_float64,\n",
    "                  unit=sc.units.us)\n",
    "dat = sc.Variable(dims=['x'],\n",
    "                  values=np.ones(M),\n",
    "                  variances=np.ones(M),\n",
    "                  unit=sc.units.counts)\n",
    "for i in range(M):\n",
    "    v = np.random.normal(50.0, scale=20.0, size=int(np.random.rand()*N))\n",
    "    var['x', i].values = v\n",
    "\n",
    "d5 = sc.Dataset()\n",
    "d5.coords['x'] = sc.Variable(['x'], values=np.arange(M), unit=sc.units.m)\n",
    "d5['a'] = sc.DataArray(data=dat, coords={'tof': var})\n",
    "sc.show(d5)\n",
    "plot(d5, bins={'tof': 25})"
   ]
  },
  {
   "cell_type": "markdown",
   "metadata": {},
   "source": [
    "## Saving figures\n",
    "Static `pdf` or `png` copies of the figures can be saved to file (note that any buttons displayed under a figure are not saved to file). This is achieved as follows:"
   ]
  },
  {
   "cell_type": "code",
   "execution_count": null,
   "metadata": {},
   "outputs": [],
   "source": [
    "plot(d3, filename='my_2d_figure.pdf')"
   ]
  }
 ],
 "metadata": {
  "kernelspec": {
   "display_name": "Python 3",
   "language": "python",
   "name": "python3"
  },
  "language_info": {
   "codemirror_mode": {
    "name": "ipython",
    "version": 3
   },
   "file_extension": ".py",
   "mimetype": "text/x-python",
   "name": "python",
   "nbconvert_exporter": "python",
   "pygments_lexer": "ipython3",
   "version": "3.7.6"
  }
 },
 "nbformat": 4,
 "nbformat_minor": 2
}
