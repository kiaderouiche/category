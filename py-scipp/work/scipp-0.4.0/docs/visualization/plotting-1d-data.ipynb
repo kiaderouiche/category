{
 "cells": [
  {
   "cell_type": "markdown",
   "metadata": {},
   "source": [
    "# Plotting 1-D data\n",
    "\n",
    "`scipp` offers a number of different ways to plot data from a `DataArray` or a `Dataset`. It uses the `matplotlib` graphing library to do so."
   ]
  },
  {
   "cell_type": "code",
   "execution_count": null,
   "metadata": {},
   "outputs": [],
   "source": [
    "import numpy as np\n",
    "import scipp as sc\n",
    "from scipp.plot import plot"
   ]
  },
  {
   "cell_type": "markdown",
   "metadata": {},
   "source": [
    "## Basic plot\n",
    "\n",
    "Plotting is done using the `plot` (or `scipp.plot.plot`) function.\n",
    "Generally the information in a dataset is sufficient to produce a useful plot out of the box.\n",
    "\n",
    "For example, a simple plot from a 1D dataset is produced as follows:"
   ]
  },
  {
   "cell_type": "code",
   "execution_count": null,
   "metadata": {},
   "outputs": [],
   "source": [
    "d = sc.Dataset()\n",
    "N = 50\n",
    "d.coords['tof'] = sc.Variable(['tof'], values=np.arange(N).astype(np.float64),\n",
    "                                unit=sc.units.us)\n",
    "d['Sample'] = sc.Variable(['tof'], values=10.0*np.random.rand(N),\n",
    "                          unit=sc.units.counts)\n",
    "plot(d)"
   ]
  },
  {
   "cell_type": "markdown",
   "metadata": {},
   "source": [
    "## With error bars\n",
    "\n",
    "Error bars are shown automatically if variances are present in the data:"
   ]
  },
  {
   "cell_type": "code",
   "execution_count": null,
   "metadata": {},
   "outputs": [],
   "source": [
    "d['Sample'].variances = np.square(np.random.rand(N))\n",
    "plot(d)"
   ]
  },
  {
   "cell_type": "markdown",
   "metadata": {},
   "source": [
    "Note that the length of the errors bars is the standard-deviation, i.e., the square root of the variances stored in the data.\n",
    "\n",
    "## Multiple variables on the same axes\n",
    "\n",
    "### Plotting a Dataset with multiple entries\n",
    "\n",
    "If a dataset contains more than one 1D variable with the same coordinates, they are plotted on the same axes:"
   ]
  },
  {
   "cell_type": "code",
   "execution_count": null,
   "metadata": {},
   "outputs": [],
   "source": [
    "d['Background'] = sc.Variable(['tof'], values=5.0*np.random.rand(N),\n",
    "                              unit=sc.units.counts)\n",
    "plot(d)"
   ]
  },
  {
   "cell_type": "markdown",
   "metadata": {},
   "source": [
    "It is possible to hide the error bars with"
   ]
  },
  {
   "cell_type": "code",
   "execution_count": null,
   "metadata": {},
   "outputs": [],
   "source": [
    "plot(d, errorbars=False)\n",
    "plot(d, errorbars={'Sample': False})"
   ]
  },
  {
   "cell_type": "markdown",
   "metadata": {},
   "source": [
    "We can always plot just a single item of the dataset:"
   ]
  },
  {
   "cell_type": "code",
   "execution_count": null,
   "metadata": {},
   "outputs": [],
   "source": [
    "plot(d['Background'])"
   ]
  },
  {
   "cell_type": "markdown",
   "metadata": {},
   "source": [
    "### Overplotting using a dict of DataArrays\n",
    "\n",
    "One can also supply the `plot` function with a `dict` of data arrays, and compatible data arrays will be overplotted on the same axes:"
   ]
  },
  {
   "cell_type": "code",
   "execution_count": null,
   "metadata": {},
   "outputs": [],
   "source": [
    "plot({\"My sample\": d[\"Sample\"], \"My background\": d[\"Background\"]})"
   ]
  },
  {
   "cell_type": "markdown",
   "metadata": {},
   "source": [
    "This can become useful when wanting to plot slices of a 2D data array:"
   ]
  },
  {
   "cell_type": "code",
   "execution_count": null,
   "metadata": {},
   "outputs": [],
   "source": [
    "M = 100\n",
    "L = 5\n",
    "xx = np.arange(M, dtype=np.float64)\n",
    "yy = np.arange(L, dtype=np.float64)\n",
    "x, y = np.meshgrid(xx, yy)\n",
    "b = M/20.0\n",
    "c = M/5.0\n",
    "e = L/10.0\n",
    "r = np.sqrt(((x-c)/b)**2 + (y/e)**2)\n",
    "a = np.sin(r)\n",
    "d2d = sc.Dataset()\n",
    "d2d.coords['x'] = sc.Variable(['x'], values=xx, unit=sc.units.m)\n",
    "d2d.coords['y'] = sc.Variable(['y'], values=yy, unit=sc.units.m)\n",
    "d2d['Signal'] = sc.Variable(['y', 'x'], values=a, unit=sc.units.counts)\n",
    "plot({f'slice-{i}': d2d['Signal']['y', i] for i in range(L)})"
   ]
  },
  {
   "cell_type": "markdown",
   "metadata": {},
   "source": [
    "Or using the `collapse` helper function, which returns a `dict` of data arrays:"
   ]
  },
  {
   "cell_type": "code",
   "execution_count": null,
   "metadata": {},
   "outputs": [],
   "source": [
    "plot(sc.collapse(d2d[\"Signal\"], keep='x'))"
   ]
  },
  {
   "cell_type": "markdown",
   "metadata": {},
   "source": [
    "## Customizing linestyles, markers and colors\n",
    "\n",
    "Linestyles can be customized following the Matplotlib API.\n",
    "For instance, it is possible to connect the dots by setting `linestyle='solid'`:"
   ]
  },
  {
   "cell_type": "code",
   "execution_count": null,
   "metadata": {},
   "outputs": [],
   "source": [
    "plot(d, linestyle='solid')"
   ]
  },
  {
   "cell_type": "markdown",
   "metadata": {},
   "source": [
    "Marker colors and symbols can be changed via the `color` and `marker` keyword arguments:"
   ]
  },
  {
   "cell_type": "code",
   "execution_count": null,
   "metadata": {},
   "outputs": [],
   "source": [
    "plot(d, color=['red', '#30D5F9'], marker=['s', 'x'])"
   ]
  },
  {
   "cell_type": "markdown",
   "metadata": {},
   "source": [
    "The supplied `color` and `marker` arguments can also be a list of integers, which correspond to one of the pre-defined [colors](https://matplotlib.org/3.1.1/users/dflt_style_changes.html) or [markers](https://matplotlib.org/3.1.1/api/markers_api.html) (which were taken from matplotlib). In addition, the grid can also be displayed:"
   ]
  },
  {
   "cell_type": "code",
   "execution_count": null,
   "metadata": {},
   "outputs": [],
   "source": [
    "plot(d, color=[6, 8], grid=True)"
   ]
  },
  {
   "cell_type": "markdown",
   "metadata": {},
   "source": [
    "## Logarithmic scales\n",
    "\n",
    "Logarithmic axes are supported as follows:"
   ]
  },
  {
   "cell_type": "code",
   "execution_count": null,
   "metadata": {
    "scrolled": false
   },
   "outputs": [],
   "source": [
    "plot(d, logx=True)\n",
    "plot(d, logy=True)\n",
    "plot(d, logxy=True)"
   ]
  },
  {
   "cell_type": "markdown",
   "metadata": {},
   "source": [
    "## Histograms\n",
    "Histograms are automatically generated if the coordinate is bin edges:"
   ]
  },
  {
   "cell_type": "code",
   "execution_count": null,
   "metadata": {},
   "outputs": [],
   "source": [
    "d['Histogram'] = sc.Variable(['tof'], values=20.0*np.random.rand(N-1),\n",
    "                             unit=sc.units.counts)\n",
    "plot(d['Histogram'])"
   ]
  },
  {
   "cell_type": "markdown",
   "metadata": {},
   "source": [
    "and with error bars"
   ]
  },
  {
   "cell_type": "code",
   "execution_count": null,
   "metadata": {},
   "outputs": [],
   "source": [
    "d['Histogram'].variances = 5.0*np.random.rand(N-1)\n",
    "plot(d['Histogram'])"
   ]
  },
  {
   "cell_type": "markdown",
   "metadata": {},
   "source": [
    "The histogram color can be customized:"
   ]
  },
  {
   "cell_type": "code",
   "execution_count": null,
   "metadata": {},
   "outputs": [],
   "source": [
    "plot(d['Histogram'], color='#000000')"
   ]
  },
  {
   "cell_type": "markdown",
   "metadata": {},
   "source": [
    "## Multiple 1D variables with different dimensions\n",
    "\n",
    "`scipp.plot` also supports multiple 1-D variables with different dimensions (note that the data entries are grouped onto the same graph if they have the same dimension and unit):"
   ]
  },
  {
   "cell_type": "code",
   "execution_count": null,
   "metadata": {
    "scrolled": false
   },
   "outputs": [],
   "source": [
    "M = 60\n",
    "d.coords['x'] = sc.Variable(['x'],\n",
    "                              values=np.arange(M).astype(np.float64),\n",
    "                              unit=sc.units.m)\n",
    "d['OtherSample'] = sc.Variable(['x'], values=10.0*np.random.rand(M),\n",
    "                                   unit=sc.units.s)\n",
    "d['OtherNoise'] = sc.Variable(['x'], values=7.0*np.random.rand(M-1),\n",
    "                                  variances=3.0*np.random.rand(M-1),\n",
    "                                  unit=sc.units.s)\n",
    "d['SomeKgs'] = sc.Variable(['x'], values=20.0*np.random.rand(M),\n",
    "                                   unit=sc.units.kg)\n",
    "plot(d)"
   ]
  },
  {
   "cell_type": "markdown",
   "metadata": {},
   "source": [
    "## Custom labels along x axis\n",
    "\n",
    "Sometimes one wishes to have `labels` along the X axis instead of the coordinate. This can be achieved via the `axes` keyword argument:"
   ]
  },
  {
   "cell_type": "code",
   "execution_count": null,
   "metadata": {},
   "outputs": [],
   "source": [
    "d1 = sc.Dataset()\n",
    "N = 100\n",
    "d1.coords['tof'] = sc.Variable(['tof'],\n",
    "                                 values=np.arange(N).astype(np.float64),\n",
    "                                 unit=sc.units.us)\n",
    "d1['Sample'] = sc.Variable(['tof'],\n",
    "                           values=10.0 * np.random.rand(N),\n",
    "                           unit=sc.units.counts)\n",
    "d1.coords['somelabels'] = sc.Variable(['tof'],\n",
    "                                      values=np.linspace(101., 105., N),\n",
    "                                      unit=sc.units.s)\n",
    "plot(d1, axes=['somelabels'])"
   ]
  },
  {
   "cell_type": "markdown",
   "metadata": {},
   "source": [
    "If one has multiple entries in a `Dataset`, the labels corresponding to each dimension need to be specified in a dictionary-like fashion:"
   ]
  },
  {
   "cell_type": "code",
   "execution_count": null,
   "metadata": {},
   "outputs": [],
   "source": [
    "M = 50\n",
    "d1.coords['x'] = sc.Variable(['x'],\n",
    "                             values=np.arange(M).astype(np.float64),\n",
    "                             unit=sc.units.m)\n",
    "d1['Sample2'] = sc.Variable(['x'],\n",
    "                            values=10.0 * np.random.rand(M),\n",
    "                            unit=sc.units.counts)\n",
    "d1.coords['Xlabels'] = sc.Variable(['x'],\n",
    "                                   values=np.linspace(151., 155., M),\n",
    "                                   unit=sc.units.s)\n",
    "plot(d1, axes={'x': 'Xlabels', 'tof': 'somelabels'})"
   ]
  },
  {
   "cell_type": "markdown",
   "metadata": {},
   "source": [
    "## Plotting masks\n",
    "\n",
    "If a dataset contains masks, the symbols of masks data points will have a thick black contour in a 1D plot:"
   ]
  },
  {
   "cell_type": "code",
   "execution_count": null,
   "metadata": {},
   "outputs": [],
   "source": [
    "d4 = sc.Dataset()\n",
    "N = 50\n",
    "x = np.arange(N).astype(np.float64)\n",
    "d4.coords['tof'] = sc.Variable(['tof'], values=x,\n",
    "                                 unit=sc.units.us)\n",
    "d4['Sample'] = sc.Variable(['tof'], values=3*np.sin(x/5)+3,\n",
    "                           unit=sc.units.counts)\n",
    "d4['Background'] = sc.Variable(['tof'], values=1.0*np.random.rand(N),\n",
    "                               unit=sc.units.counts)\n",
    "d4.masks['mask1'] = sc.Variable(['tof'],\n",
    "                                values=np.where(np.abs(x-40) < 10, True, False))\n",
    "plot(d4)"
   ]
  },
  {
   "cell_type": "markdown",
   "metadata": {},
   "source": [
    "A toggle button below the plot can be used to hide/show the masks. The color of the masks can be changed as follows:"
   ]
  },
  {
   "cell_type": "code",
   "execution_count": null,
   "metadata": {},
   "outputs": [],
   "source": [
    "plot(d4, masks={'color': 'red'})"
   ]
  },
  {
   "cell_type": "markdown",
   "metadata": {},
   "source": [
    "### Masks on histograms\n",
    "\n",
    "Masks on a histogram show up as a thick black line:"
   ]
  },
  {
   "cell_type": "code",
   "execution_count": null,
   "metadata": {},
   "outputs": [],
   "source": [
    "d4 = sc.Dataset()\n",
    "N = 50\n",
    "x = np.arange(N+1).astype(np.float64)\n",
    "d4.coords['tof'] = sc.Variable(['tof'], values=x,\n",
    "                                 unit=sc.units.us)\n",
    "d4['Histo'] = sc.Variable(['tof'], values=3*np.sin(x[:-1]/5)+3,\n",
    "                           unit=sc.units.counts)\n",
    "d4.masks['mask1'] = sc.Variable(['tof'],\n",
    "                                values=np.where(np.abs(x[:-1]-40) < 10, True, False))\n",
    "plot(d4)"
   ]
  },
  {
   "cell_type": "markdown",
   "metadata": {},
   "source": [
    "## Saving figures\n",
    "Static `pdf` or `png` copies of the figures can be saved to file (note that any buttons displayed under a figure are not saved to file). This is achieved as follows:"
   ]
  },
  {
   "cell_type": "code",
   "execution_count": null,
   "metadata": {},
   "outputs": [],
   "source": [
    "plot(d4, filename='my_1d_figure.pdf')"
   ]
  }
 ],
 "metadata": {
  "kernelspec": {
   "display_name": "Python 3",
   "language": "python",
   "name": "python3"
  },
  "language_info": {
   "codemirror_mode": {
    "name": "ipython",
    "version": 3
   },
   "file_extension": ".py",
   "mimetype": "text/x-python",
   "name": "python",
   "nbconvert_exporter": "python",
   "pygments_lexer": "ipython3",
   "version": "3.7.6"
  }
 },
 "nbformat": 4,
 "nbformat_minor": 2
}
