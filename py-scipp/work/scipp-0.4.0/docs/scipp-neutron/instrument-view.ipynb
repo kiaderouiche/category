{
 "cells": [
  {
   "cell_type": "markdown",
   "metadata": {},
   "source": [
    "# Instrument view\n",
    "\n",
    "A simple version of the Mantid [instrument view](https://www.mantidproject.org/MantidPlot:_Instrument_View) is available in `scipp`. It currently does not support detector 'picking' and manual drawing of masks, but basic functionalities such as different 2D and 3D projections, as well as navigation through the time-of-flight dimension via a slider, are provided."
   ]
  },
  {
   "cell_type": "markdown",
   "metadata": {},
   "source": [
    "<div class=\"alert alert-info\">\n",
    "\n",
    "**Note**\n",
    "\n",
    "The files used in this notebook were taken from the Mantid [training course data](http://sourceforge.net/projects/mantid/files/Sample%20Data/TrainingCourseData.zip/download).\n",
    "\n",
    "</div>"
   ]
  },
  {
   "cell_type": "markdown",
   "metadata": {},
   "source": [
    "<div class=\"alert alert-warning\">\n",
    "\n",
    "**Warning**\n",
    "    \n",
    "While you can interact with the 3D view of the instrument, the buttons and sliders will have no effect in the documentation pages, as there is no kernel to perform the operations. These will only work inside a Jupyter notebook.\n",
    "\n",
    "</div>"
   ]
  },
  {
   "cell_type": "markdown",
   "metadata": {},
   "source": [
    "The instrument view is part of the `scipp.neutron` module, and it is launched as follows:"
   ]
  },
  {
   "cell_type": "code",
   "execution_count": null,
   "metadata": {},
   "outputs": [],
   "source": [
    "import numpy as np\n",
    "import scipp.neutron as sn"
   ]
  },
  {
   "cell_type": "code",
   "execution_count": null,
   "metadata": {},
   "outputs": [],
   "source": [
    "sample = sn.load(filename='PG3_4871_event.nxs', advanced_geometry=True)"
   ]
  },
  {
   "cell_type": "code",
   "execution_count": null,
   "metadata": {},
   "outputs": [],
   "source": [
    "sn.instrument_view(sample)"
   ]
  },
  {
   "cell_type": "markdown",
   "metadata": {},
   "source": [
    "By default, the 3D view is rendered. Switching to a cylindrical or spherical view is achieved easily by using the buttons below the figure.\n",
    "\n",
    "The projection can also be selected on creation using the `projection` keyword argument:"
   ]
  },
  {
   "cell_type": "code",
   "execution_count": null,
   "metadata": {},
   "outputs": [],
   "source": [
    "sn.instrument_view(sample, projection=\"Cylindrical Y\")"
   ]
  },
  {
   "cell_type": "markdown",
   "metadata": {},
   "source": [
    "It is also possible to use the usual arguments for customizing the figure, e.g."
   ]
  },
  {
   "cell_type": "code",
   "execution_count": null,
   "metadata": {},
   "outputs": [],
   "source": [
    "sn.instrument_view(sample, cmap=\"magma\", vmax=1.5, bins=10, log=True)"
   ]
  },
  {
   "cell_type": "markdown",
   "metadata": {},
   "source": [
    "This works for any file that can be loaded by Mantid that contains a valid instrument description or geometry.\n",
    "\n",
    "There are also two different rendering modes:\n",
    "\n",
    "- `Full` rendering (default): the shape, size and orientation of detector pixels is fully reproduced. Interactions can be slower due to a heavier computational load.\n",
    "- `Fast` rendering: for maximum performance, only the positions of the detectors are correctly represented. The pixels are displayed as 2D squares.\n",
    "\n",
    "Rendering can be changed in a dropdown menu or using a keyword argument:"
   ]
  },
  {
   "cell_type": "code",
   "execution_count": null,
   "metadata": {},
   "outputs": [],
   "source": [
    "sn.instrument_view(sn.load(filename='GEM40979.raw'), rendering='Fast')"
   ]
  }
 ],
 "metadata": {
  "kernelspec": {
   "display_name": "Python 3",
   "language": "python",
   "name": "python3"
  },
  "language_info": {
   "codemirror_mode": {
    "name": "ipython",
    "version": 3
   },
   "file_extension": ".py",
   "mimetype": "text/x-python",
   "name": "python",
   "nbconvert_exporter": "python",
   "pygments_lexer": "ipython3",
   "version": "3.7.6"
  }
 },
 "nbformat": 4,
 "nbformat_minor": 2
}
