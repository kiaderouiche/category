{
 "cells": [
  {
   "cell_type": "markdown",
   "metadata": {},
   "source": [
    "# From Mantid to Scipp\n",
    "## Data types\n",
    "### Workspaces\n",
    "\n",
    "| Mantid | Scipp |\n",
    "| ---| --- |\n",
    "| `Workspace2D` | `DataArray` |\n",
    "| `EventWorkspace` | `DataArray` |\n",
    "| `WorkspaceSingleValue` | `DataArray` |\n",
    "| `MDHistoWorkspace` | `DataArray` |\n",
    "| `MDEventWorkspace` | not supported |\n",
    "| `TableWorkspace` | `Dataset` |\n",
    "| `WorkspaceGroup` | `Dataset` (aligned dimensions), otherwise Python `list` or `dict` |\n",
    "\n",
    "#### Notes\n",
    "- In many cases it may be desirable to use `Dataset` instead of `DataArray`. You can easily create a `Dataset` directly from a `DataArray`.\n",
    "- Scipp takes basic geometric information from Mantid's instrument in the form of positions. Detector grouping by spectrum is respected. Upon conversion, Scipp will perform spherical coordinate averaging for the group based on the beam direction, this preserves the average scattering angle between a group of detectors and the spectra respresenting the group. This may yield slightly different detector and spectrum positions between what is natively stored in Mantid's instrument and Scipp.\n",
    "- Run and Sample are copied over to scipp from any MatrixWorkspace derived Workspaces.\n",
    "- Scipp (or rather conversion to scipp) is currently still incomplete and does not carry over all information from a workspace.\n",
    "\n",
    "### Other\n",
    "\n",
    "| Mantid | Scipp |\n",
    "| ---| --- |\n",
    "| `DetectorInfo` | `Dataset` |\n",
    "\n",
    "## Concepts\n",
    "\n",
    "Mantid's `MatrixWorkspace` (the common base class of `Workspace2D` and `EventWorkspace`) uses the terms \"X\", \"Y\", and \"E\" to refer to one of its axes, the data values, and the uncertainties.\n",
    "\n",
    "- Mantid stores **standard-deviations** in \"E\", whereas scipp stores **variances**.\n",
    "- Typically Mantid's \"X\" is the coordinate axis for the time-of-flight dimension, or the dimension derived from it.\n",
    "- Mantid's \"Y\" is not the axis for the second dimension, but the **data**.\n",
    "- Mantid's \"X\", \"Y\", and \"E\" are 1-D arrays of 1-D arrays, whereas scipp stores 2-D (or higher) arrays, if applicable.\n",
    "\n",
    "We have the following \"equivalence\":\n",
    "\n",
    "| Mantid | Scipp | comment |\n",
    "| ---| --- | --- |\n",
    "| `ws.readY(i)` | `data.values` |\n",
    "| `ws.readE(i)` | `data.variances` | square former, or `sqrt` latter |\n",
    "| `ws.readX(i)` | `data.coords['tof'].values` | dimension label may vary |\n",
    "| `ws.getAxis(0).getUnit()` | `data.coords['tof'].unit` | dimension label may vary |\n",
    "| `ws.getAxis(1)` | `data.coords['spectrum']` | dimension label may vary |\n",
    "\n",
    "Here `i` is the index along the second axis (axis index `1`).\n",
    "Mantid's `readX`, `readY`, and `readE` always return 1-D arrays, whereas the `values` and `variances` properties in scipp return a multi-dimensional array.\n",
    "That is, there is no actual equivalence.\n",
    "\n",
    "\n",
    "## Algorithms\n",
    "\n",
    "### Notes\n",
    "- In **Mantid** a Python variable referencing **a workspace is** under the hood **a global variable**.\n",
    "  Unless specified otherwise the variable name is the name of the workspace in the [AnalysisDataService](https://docs.mantidproject.org/nightly/concepts/AnalysisDataService.html).\n",
    "  For marginally more clarity, the examples in the following therefore use the string-based syntax for specifying output workspaces.\n",
    "  *In scipp there is no such limitation and everything behaves just like normal variables in Python.*\n",
    "- Unless stated otherwise, the following code examples assume datasets or data arrays have `'tof'` for what Mantid calls \"X\" and `'spectrum'` why Mantid calls \"Y\" or \"spectrum axis\".\n",
    "- There is no strict 1:1 equivalence between Mantid workspaces and functionality in scipp.\n",
    "  The examples below give the most common examples, but in many cases exceptions apply and detailed behavior may differ.\n",
    "  If in doubt, consult the Mantid algorithm documentation and the scipp documentation."
   ]
  },
  {
   "cell_type": "code",
   "execution_count": null,
   "metadata": {},
   "outputs": [],
   "source": [
    "import mantid.simpleapi as mantid\n",
    "import scipp as sc\n",
    "import numpy as np"
   ]
  },
  {
   "cell_type": "markdown",
   "metadata": {},
   "source": [
    "### Generic algorithms"
   ]
  },
  {
   "cell_type": "markdown",
   "metadata": {},
   "source": [
    "#### CloneWorkspace"
   ]
  },
  {
   "cell_type": "code",
   "execution_count": null,
   "metadata": {},
   "outputs": [],
   "source": [
    "mantid.CloneWorkspace(InputWorkspace='data', OutputWorkspace='copy')"
   ]
  },
  {
   "cell_type": "markdown",
   "metadata": {},
   "source": [
    "Equivalent in scipp:"
   ]
  },
  {
   "cell_type": "code",
   "execution_count": null,
   "metadata": {},
   "outputs": [],
   "source": [
    "copy = data.copy()"
   ]
  },
  {
   "cell_type": "markdown",
   "metadata": {},
   "source": [
    "#### DeleteWorkspace"
   ]
  },
  {
   "cell_type": "code",
   "execution_count": null,
   "metadata": {},
   "outputs": [],
   "source": [
    "mantid.DeleteWorkspace(Workspace='data')"
   ]
  },
  {
   "cell_type": "markdown",
   "metadata": {},
   "source": [
    "Equivalent in scipp:"
   ]
  },
  {
   "cell_type": "code",
   "execution_count": null,
   "metadata": {},
   "outputs": [],
   "source": [
    "del data"
   ]
  },
  {
   "cell_type": "markdown",
   "metadata": {},
   "source": [
    "#### ExtractSingleSpectrum"
   ]
  },
  {
   "cell_type": "code",
   "execution_count": null,
   "metadata": {},
   "outputs": [],
   "source": [
    "mantid.ExtractSingleSpectrum(\n",
    "    InputWorkspace='data',\n",
    "    OutputWorkspace='spec',\n",
    "    WorkspaceIndex=7)"
   ]
  },
  {
   "cell_type": "markdown",
   "metadata": {},
   "source": [
    "Equivalent in scipp:"
   ]
  },
  {
   "cell_type": "code",
   "execution_count": null,
   "metadata": {},
   "outputs": [],
   "source": [
    "spec = data['spectrum', 7]"
   ]
  },
  {
   "cell_type": "markdown",
   "metadata": {},
   "source": [
    "If an actual *copy* is required use:"
   ]
  },
  {
   "cell_type": "code",
   "execution_count": null,
   "metadata": {},
   "outputs": [],
   "source": [
    "spec = data['spectrum', 7].copy()"
   ]
  },
  {
   "cell_type": "markdown",
   "metadata": {},
   "source": [
    "#### ExtractSpectra / CropWorkspace"
   ]
  },
  {
   "cell_type": "code",
   "execution_count": null,
   "metadata": {},
   "outputs": [],
   "source": [
    "mantid.ExtractSpectra(\n",
    "    InputWorkspace='data',\n",
    "    OutputWorkspace='spectra',\n",
    "    StartWorkspaceIndex=7,\n",
    "    EndWorkspaceIndex=88)"
   ]
  },
  {
   "cell_type": "markdown",
   "metadata": {},
   "source": [
    "Equivalent in scipp:"
   ]
  },
  {
   "cell_type": "code",
   "execution_count": null,
   "metadata": {},
   "outputs": [],
   "source": [
    "spectra = data['spectrum', 7:89]"
   ]
  },
  {
   "cell_type": "markdown",
   "metadata": {},
   "source": [
    "If an actual *copy* is required use:"
   ]
  },
  {
   "cell_type": "code",
   "execution_count": null,
   "metadata": {},
   "outputs": [],
   "source": [
    "spectra = data['spectrum', 7:89].copy()"
   ]
  },
  {
   "cell_type": "markdown",
   "metadata": {},
   "source": [
    "#### Transpose"
   ]
  },
  {
   "cell_type": "code",
   "execution_count": null,
   "metadata": {},
   "outputs": [],
   "source": [
    "mantid.Transpose(InputWorkspace='data', OutputWorkspace='data')"
   ]
  },
  {
   "cell_type": "markdown",
   "metadata": {},
   "source": [
    "Equivalent in scipp:\n",
    "Transposing is *implicit* and automatic based on dimension labels and not required for any of the common operations, including plotting."
   ]
  },
  {
   "cell_type": "markdown",
   "metadata": {},
   "source": [
    "#### AppendSpectra"
   ]
  },
  {
   "cell_type": "code",
   "execution_count": null,
   "metadata": {},
   "outputs": [],
   "source": [
    "mantid.AppendSpectra(\n",
    "    InputWorkspace1='data1',\n",
    "    InputWorkspace2='data2',\n",
    "    OutputWorkspace='data')"
   ]
  },
  {
   "cell_type": "markdown",
   "metadata": {},
   "source": [
    "Equivalent in scipp:"
   ]
  },
  {
   "cell_type": "code",
   "execution_count": null,
   "metadata": {},
   "outputs": [],
   "source": [
    "data = sc.concatenate(data1, data2, 'spectrum')"
   ]
  },
  {
   "cell_type": "markdown",
   "metadata": {},
   "source": [
    "#### ConjoinXRuns"
   ]
  },
  {
   "cell_type": "code",
   "execution_count": null,
   "metadata": {},
   "outputs": [],
   "source": [
    "mantid.ConjoinXRuns(\n",
    "    InputWorkspaces='data1,data2',\n",
    "    OutputWorkspace='data')"
   ]
  },
  {
   "cell_type": "markdown",
   "metadata": {},
   "source": [
    "Equivalent in scipp:"
   ]
  },
  {
   "cell_type": "code",
   "execution_count": null,
   "metadata": {},
   "outputs": [],
   "source": [
    "data = sc.concatenate(data1, data2, 'tof')"
   ]
  },
  {
   "cell_type": "markdown",
   "metadata": {},
   "source": [
    "#### ConjoinSpectra"
   ]
  },
  {
   "cell_type": "code",
   "execution_count": null,
   "metadata": {},
   "outputs": [],
   "source": [
    "mantid.ConjoinSpectra(\n",
    "    InputWorkspaces='ws1,ws2',\n",
    "    OutWorkspace='spec_vs_temperature'\n",
    "    WorkspaceIndex=7,\n",
    "    LabelUsing=\"temperature\",\n",
    "    LabelValue=\"Mean\")"
   ]
  },
  {
   "cell_type": "markdown",
   "metadata": {},
   "source": [
    "Equivalent in scipp:"
   ]
  },
  {
   "cell_type": "code",
   "execution_count": null,
   "metadata": {},
   "outputs": [],
   "source": [
    "data = sc.concatenate(data1, data2, 'temperature')\n",
    "sample_temperature = data.attrs['sample'].value['temperature']\n",
    "data.coords['temperature'] = sc.mean(sample_temperature, 'time')\n",
    "spec_vs_temperature = data['temperature', 7]"
   ]
  },
  {
   "cell_type": "markdown",
   "metadata": {},
   "source": [
    "#### GroupWorkspaces"
   ]
  },
  {
   "cell_type": "code",
   "execution_count": null,
   "metadata": {},
   "outputs": [],
   "source": [
    "mantid.GroupWorkspaces(\n",
    "    InputWorkspaces='ws1,ws2',\n",
    "    OutputWorkspace='data')"
   ]
  },
  {
   "cell_type": "markdown",
   "metadata": {},
   "source": [
    "Equivalent in scipp:"
   ]
  },
  {
   "cell_type": "code",
   "execution_count": null,
   "metadata": {},
   "outputs": [],
   "source": [
    "data = sc.Dataset({\n",
    "    'data1':data_array1,\n",
    "    'data2':data_array2})"
   ]
  },
  {
   "cell_type": "markdown",
   "metadata": {},
   "source": [
    "This requires aligned dimensions (matching coordinates) in all input arrays.\n",
    "Use a Python `dict` or `list` for grouping unaligned data."
   ]
  },
  {
   "cell_type": "markdown",
   "metadata": {},
   "source": [
    "#### Rebin  `Workspace2D` into `Workspace2D`"
   ]
  },
  {
   "cell_type": "code",
   "execution_count": null,
   "metadata": {},
   "outputs": [],
   "source": [
    "mantid.Rebin(\n",
    "    InputWorkspace='histo',\n",
    "    OutputWorkspace='histo',\n",
    "    Params='0,100,20000')"
   ]
  },
  {
   "cell_type": "markdown",
   "metadata": {},
   "source": [
    "Equivalent in scipp:"
   ]
  },
  {
   "cell_type": "code",
   "execution_count": null,
   "metadata": {},
   "outputs": [],
   "source": [
    "edges = sc.Variable(\n",
    "    ['tof'],\n",
    "    values=np.arange(0.0, 20000.0, 100.0),\n",
    "    unit=sc.units.us)\n",
    "histo = sc.rebin(histo, 'tof', edges)"
   ]
  },
  {
   "cell_type": "markdown",
   "metadata": {},
   "source": [
    "#### Rebin  `EventWorkspace` preserving events"
   ]
  },
  {
   "cell_type": "code",
   "execution_count": null,
   "metadata": {},
   "outputs": [],
   "source": [
    "mantid.Rebin(\n",
    "    InputWorkspace='events',\n",
    "    OutputWorkspace='events',\n",
    "    Params='0,100,20000',\n",
    "    PreserveEvents=True)"
   ]
  },
  {
   "cell_type": "markdown",
   "metadata": {},
   "source": [
    "Equivalent in scipp:"
   ]
  },
  {
   "cell_type": "code",
   "execution_count": null,
   "metadata": {},
   "outputs": [],
   "source": [
    "edges = sc.Variable(\n",
    "    ['tof'],\n",
    "    values=np.arange(0.0, 20000.0, 100.0),\n",
    "    unit=sc.units.us)\n",
    "events.coords['tof'] = edges"
   ]
  },
  {
   "cell_type": "markdown",
   "metadata": {},
   "source": [
    "#### Rebin  `EventWorkspace` into `Workspace2D`"
   ]
  },
  {
   "cell_type": "code",
   "execution_count": null,
   "metadata": {},
   "outputs": [],
   "source": [
    "mantid.Rebin(\n",
    "    InputWorkspace='events',\n",
    "    OutputWorkspace='histo',\n",
    "    Params='0,100,20000',\n",
    "    PreserveEvents=False)"
   ]
  },
  {
   "cell_type": "markdown",
   "metadata": {},
   "source": [
    "Equivalent in scipp:"
   ]
  },
  {
   "cell_type": "code",
   "execution_count": null,
   "metadata": {},
   "outputs": [],
   "source": [
    "edges = sc.Variable(\n",
    "    ['tof'],\n",
    "    values=np.arange(0.0, 20000.0, 100.0),\n",
    "    unit=sc.units.us)\n",
    "histo = sc.histogram(events, edges)"
   ]
  },
  {
   "cell_type": "markdown",
   "metadata": {},
   "source": [
    "#### Rebin with logarithmic bins"
   ]
  },
  {
   "cell_type": "code",
   "execution_count": null,
   "metadata": {},
   "outputs": [],
   "source": [
    "mantid.Rebin(\n",
    "    InputWorkspace='histo',\n",
    "    OutputWorkspace='histo',\n",
    "    Params='2,-0.035,10')"
   ]
  },
  {
   "cell_type": "markdown",
   "metadata": {},
   "source": [
    "Equivalent in scipp:"
   ]
  },
  {
   "cell_type": "code",
   "execution_count": null,
   "metadata": {},
   "outputs": [],
   "source": [
    "edges = sc.Variable(\n",
    "    ['tof'],\n",
    "    values=np.geomspace(start=2, stop=10, num=100),\n",
    "    unit=sc.units.us)\n",
    "histo = sc.rebin(histo, 'tof', edges)"
   ]
  },
  {
   "cell_type": "markdown",
   "metadata": {},
   "source": [
    "Bin edges in scipp can be created from an arbitrary array with increasing values, the use of `numpy.geomspace` is simply one example for generating bins spaced evenly on a log scale."
   ]
  },
  {
   "cell_type": "markdown",
   "metadata": {},
   "source": [
    "#### Scale (multiplication)"
   ]
  },
  {
   "cell_type": "code",
   "execution_count": null,
   "metadata": {},
   "outputs": [],
   "source": [
    "mantid.Scale(\n",
    "    InputWorkspace='data',\n",
    "    OutputWorkspace='data', \n",
    "    Factor=7.5,\n",
    "    Operation=\"Multiply\")"
   ]
  },
  {
   "cell_type": "markdown",
   "metadata": {},
   "source": [
    "Equivalent in scipp:"
   ]
  },
  {
   "cell_type": "code",
   "execution_count": null,
   "metadata": {},
   "outputs": [],
   "source": [
    "data *= 7.5"
   ]
  },
  {
   "cell_type": "markdown",
   "metadata": {},
   "source": [
    "#### Scale (addition)"
   ]
  },
  {
   "cell_type": "code",
   "execution_count": null,
   "metadata": {},
   "outputs": [],
   "source": [
    "mantid.Scale(\n",
    "    InputWorkspace='data',\n",
    "    OutputWorkspace='data', \n",
    "    Factor=7.5,\n",
    "    Operation=\"Add\")"
   ]
  },
  {
   "cell_type": "markdown",
   "metadata": {},
   "source": [
    "Equivalent in scipp:"
   ]
  },
  {
   "cell_type": "code",
   "execution_count": null,
   "metadata": {},
   "outputs": [],
   "source": [
    "data += 7.5"
   ]
  },
  {
   "cell_type": "markdown",
   "metadata": {},
   "source": [
    "If the data is not dimensionless, the correct unit must be specified:"
   ]
  },
  {
   "cell_type": "code",
   "execution_count": null,
   "metadata": {},
   "outputs": [],
   "source": [
    "data += 7.5 * sc.units.us"
   ]
  },
  {
   "cell_type": "markdown",
   "metadata": {},
   "source": [
    "#### ScaleX"
   ]
  },
  {
   "cell_type": "code",
   "execution_count": null,
   "metadata": {},
   "outputs": [],
   "source": [
    "mantid.ScaleX(\n",
    "    InputWorkspace='data',\n",
    "    OutputWorkspace='data', \n",
    "    Factor=7.5,\n",
    "    Operation=\"Multiply\")"
   ]
  },
  {
   "cell_type": "markdown",
   "metadata": {},
   "source": [
    "Equivalent in scipp:"
   ]
  },
  {
   "cell_type": "code",
   "execution_count": null,
   "metadata": {},
   "outputs": [],
   "source": [
    "data.coords['tof'] *= 7.5"
   ]
  },
  {
   "cell_type": "markdown",
   "metadata": {},
   "source": [
    "#### SumSpectra"
   ]
  },
  {
   "cell_type": "code",
   "execution_count": null,
   "metadata": {},
   "outputs": [],
   "source": [
    "mantid.SumSpectra(\n",
    "    InputWorkspace='data',\n",
    "    OutputWorkspace='summed',\n",
    "    StartWorkspaceIndex=7,\n",
    "    EndWorkspaceIndex=88)"
   ]
  },
  {
   "cell_type": "markdown",
   "metadata": {},
   "source": [
    "Equivalent in scipp:"
   ]
  },
  {
   "cell_type": "code",
   "execution_count": null,
   "metadata": {},
   "outputs": [],
   "source": [
    "summed = sc.sum(data['spectrum', 7:89], 'spectrum')"
   ]
  },
  {
   "cell_type": "markdown",
   "metadata": {},
   "source": [
    "### Neutron-scattering specific algorithms\n",
    "#### ConvertUnits"
   ]
  },
  {
   "cell_type": "code",
   "execution_count": null,
   "metadata": {},
   "outputs": [],
   "source": [
    "ConvertUnits(InputWorkspace='tof', OutputWorkspace='dspacing', Target='dSpacing')"
   ]
  },
  {
   "cell_type": "markdown",
   "metadata": {},
   "source": [
    "Equivalent in scipp:"
   ]
  },
  {
   "cell_type": "code",
   "execution_count": null,
   "metadata": {},
   "outputs": [],
   "source": [
    "dspacing = sc.neutron.convert(tof, 'tof', 'd-spacing')"
   ]
  },
  {
   "cell_type": "markdown",
   "metadata": {},
   "source": [
    "Note that scipp has no equivalent to the `EMode` and `EFixed` settings of `ConvertUnits`.\n",
    "Instead, this information is read from the input data, if available (note that currently only elastic scattering is supported)."
   ]
  }
 ],
 "metadata": {
  "kernelspec": {
   "display_name": "Python 3",
   "language": "python",
   "name": "python3"
  },
  "language_info": {
   "codemirror_mode": {
    "name": "ipython",
    "version": 3
   },
   "file_extension": ".py",
   "mimetype": "text/x-python",
   "name": "python",
   "nbconvert_exporter": "python",
   "pygments_lexer": "ipython3",
   "version": "3.7.3"
  },
  "nbsphinx": {
   "execute": "never"
  }
 },
 "nbformat": 4,
 "nbformat_minor": 2
}
